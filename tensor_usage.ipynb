{
 "cells": [
  {
   "cell_type": "code",
   "execution_count": 1,
   "metadata": {
    "tags": []
   },
   "outputs": [
    {
     "name": "stdout",
     "output_type": "stream",
     "text": [
      "Using backend cpu\n"
     ]
    }
   ],
   "source": [
    "import spartan as st"
   ]
  },
  {
   "cell_type": "code",
   "execution_count": 2,
   "metadata": {},
   "outputs": [],
   "source": [
    "import numpy as np\n",
    "import sparse"
   ]
  },
  {
   "cell_type": "markdown",
   "metadata": {},
   "source": [
    "# CPU Dense"
   ]
  },
  {
   "cell_type": "code",
   "execution_count": 3,
   "metadata": {
    "tags": []
   },
   "outputs": [
    {
     "name": "stdout",
     "output_type": "stream",
     "text": [
      "DTensor(\n",
      "array([[0.34118167, 0.42776057, 0.66548719, 0.51248589],\n",
      "       [0.59157547, 0.6512271 , 0.65754365, 0.22235178],\n",
      "       [0.64277602, 0.86937208, 0.24762643, 0.38732096]])\n",
      ")\n"
     ]
    }
   ],
   "source": [
    "A = st.DTensor.from_numpy(np.random.rand(3, 4))\n",
    "print(A)"
   ]
  },
  {
   "cell_type": "markdown",
   "metadata": {},
   "source": [
    "## Get Attributes"
   ]
  },
  {
   "cell_type": "code",
   "execution_count": 4,
   "metadata": {
    "tags": []
   },
   "outputs": [
    {
     "name": "stdout",
     "output_type": "stream",
     "text": [
      "(3, 4)\n",
      "float64\n",
      "DTensor(\n",
      "array([[0.34118167, 0.59157547, 0.64277602],\n",
      "       [0.42776057, 0.6512271 , 0.86937208],\n",
      "       [0.66548719, 0.65754365, 0.24762643],\n",
      "       [0.51248589, 0.22235178, 0.38732096]])\n",
      ")\n"
     ]
    }
   ],
   "source": [
    "print(A.shape)\n",
    "print(A.dtype)\n",
    "print(A.T)"
   ]
  },
  {
   "cell_type": "markdown",
   "metadata": {},
   "source": [
    "## Index and Slice"
   ]
  },
  {
   "cell_type": "code",
   "execution_count": 5,
   "metadata": {
    "scrolled": true,
    "tags": []
   },
   "outputs": [
    {
     "name": "stdout",
     "output_type": "stream",
     "text": [
      "3\n",
      "DTensor(\n",
      "array([0.34118167, 0.42776057, 0.66548719, 0.51248589])\n",
      ")\n",
      "DTensor(\n",
      "array([0.42776057, 0.6512271 , 0.86937208])\n",
      ")\n",
      "DTensor(\n",
      "array([[0.34118167, 0.42776057],\n",
      "       [0.59157547, 0.6512271 ],\n",
      "       [0.64277602, 0.86937208]])\n",
      ")\n"
     ]
    }
   ],
   "source": [
    "print(len(A))\n",
    "print(A[0])\n",
    "print(A[:, 1])\n",
    "print(A[:, 0:2])"
   ]
  },
  {
   "cell_type": "markdown",
   "metadata": {},
   "source": [
    "## Reduction operations"
   ]
  },
  {
   "cell_type": "code",
   "execution_count": 6,
   "metadata": {
    "tags": []
   },
   "outputs": [
    {
     "name": "stdout",
     "output_type": "stream",
     "text": [
      "6.216708809676708\n",
      "DTensor(\n",
      "array([1.57553316, 1.94835975, 1.57065726, 1.12215863])\n",
      ")\n"
     ]
    }
   ],
   "source": [
    "print(A.sum())\n",
    "print(A.sum(axis=0))"
   ]
  },
  {
   "cell_type": "code",
   "execution_count": 7,
   "metadata": {
    "tags": []
   },
   "outputs": [
    {
     "name": "stdout",
     "output_type": "stream",
     "text": [
      "6.216708809676708\n",
      "DTensor(\n",
      "array([1.57553316, 1.94835975, 1.57065726, 1.12215863])\n",
      ")\n"
     ]
    }
   ],
   "source": [
    "print(st.sum(A))\n",
    "print(st.sum(A, axis=0))"
   ]
  },
  {
   "cell_type": "markdown",
   "metadata": {},
   "source": [
    "## Binary operations"
   ]
  },
  {
   "cell_type": "code",
   "execution_count": 8,
   "metadata": {},
   "outputs": [],
   "source": [
    "B = st.DTensor.from_numpy(np.random.rand(3, 4))"
   ]
  },
  {
   "cell_type": "code",
   "execution_count": 9,
   "metadata": {
    "tags": []
   },
   "outputs": [
    {
     "name": "stdout",
     "output_type": "stream",
     "text": [
      "DTensor(\n",
      "array([[0.79230258, 0.72923078, 1.47336892, 0.93713784],\n",
      "       [0.60863963, 1.58634169, 1.47971021, 0.30383823],\n",
      "       [1.10772118, 1.30430985, 1.01746704, 0.9845281 ]])\n",
      ")\n",
      "DTensor(\n",
      "array([[0.79230258, 0.72923078, 1.47336892, 0.93713784],\n",
      "       [0.60863963, 1.58634169, 1.47971021, 0.30383823],\n",
      "       [1.10772118, 1.30430985, 1.01746704, 0.9845281 ]])\n",
      ")\n"
     ]
    }
   ],
   "source": [
    "print(A+B)\n",
    "print(st.add(A, B))"
   ]
  },
  {
   "cell_type": "code",
   "execution_count": 10,
   "metadata": {},
   "outputs": [
    {
     "name": "stdout",
     "output_type": "stream",
     "text": [
      "DTensor(\n",
      "array([[1.03813433, 0.99472909, 1.16305929],\n",
      "       [1.08883725, 1.17779576, 1.19728728],\n",
      "       [0.91658896, 1.05908253, 1.09892207]])\n",
      ")\n",
      "DTensor(\n",
      "array([[1.03813433, 0.99472909, 1.16305929],\n",
      "       [1.08883725, 1.17779576, 1.19728728],\n",
      "       [0.91658896, 1.05908253, 1.09892207]])\n",
      ")\n"
     ]
    }
   ],
   "source": [
    "print(A.dot(B.T))\n",
    "print(st.dot(A, B.T))"
   ]
  },
  {
   "cell_type": "markdown",
   "metadata": {},
   "source": [
    "# CPU Sparse"
   ]
  },
  {
   "cell_type": "code",
   "execution_count": 11,
   "metadata": {
    "tags": []
   },
   "outputs": [
    {
     "name": "stdout",
     "output_type": "stream",
     "text": [
      "STensor(<COO: shape=(3, 4), dtype=float64, nnz=2, fill_value=0.0>)\n",
      "DTensor(\n",
      "array([[0.91353755, 0.        , 0.        , 0.        ],\n",
      "       [0.        , 0.        , 0.        , 0.        ],\n",
      "       [0.        , 0.88593596, 0.        , 0.        ]])\n",
      ")\n"
     ]
    }
   ],
   "source": [
    "A = np.random.rand(3, 4)\n",
    "A[A<0.8] = 0\n",
    "A = st.STensor.from_numpy(A)\n",
    "print(A)\n",
    "print(A.todense())"
   ]
  },
  {
   "cell_type": "markdown",
   "metadata": {},
   "source": [
    "## Get Attributes"
   ]
  },
  {
   "cell_type": "code",
   "execution_count": 12,
   "metadata": {
    "tags": []
   },
   "outputs": [
    {
     "name": "stdout",
     "output_type": "stream",
     "text": [
      "(3, 4)\n",
      "float64\n",
      "STensor(<COO: shape=(4, 3), dtype=float64, nnz=2, fill_value=0.0>)\n"
     ]
    }
   ],
   "source": [
    "print(A.shape)\n",
    "print(A.dtype)\n",
    "print(A.T)"
   ]
  },
  {
   "cell_type": "markdown",
   "metadata": {},
   "source": [
    "## Index and Slice"
   ]
  },
  {
   "cell_type": "code",
   "execution_count": 13,
   "metadata": {
    "tags": []
   },
   "outputs": [
    {
     "name": "stdout",
     "output_type": "stream",
     "text": [
      "3\n"
     ]
    },
    {
     "name": "stderr",
     "output_type": "stream",
     "text": [
      "c:\\Users\\bailean\\AppData\\Local\\Programs\\Python\\Python310\\lib\\site-packages\\numba\\core\\dispatcher.py:289: UserWarning: Numba extension module 'sparse._numba_extension' failed to load due to 'ModuleNotFoundError(No module named 'numba.targets')'.\n",
      "  entrypoints.init_all()\n"
     ]
    },
    {
     "name": "stdout",
     "output_type": "stream",
     "text": [
      "STensor(<COO: shape=(4,), dtype=float64, nnz=1, fill_value=0.0>)\n",
      "STensor(<COO: shape=(3,), dtype=float64, nnz=1, fill_value=0.0>)\n",
      "STensor(<COO: shape=(3, 2), dtype=float64, nnz=2, fill_value=0.0>)\n"
     ]
    }
   ],
   "source": [
    "print(len(A))\n",
    "print(A[0])\n",
    "print(A[:, 1])\n",
    "print(A[:, 0:2])"
   ]
  },
  {
   "cell_type": "markdown",
   "metadata": {},
   "source": [
    "## Reduction operations"
   ]
  },
  {
   "cell_type": "code",
   "execution_count": 14,
   "metadata": {
    "tags": []
   },
   "outputs": [
    {
     "name": "stdout",
     "output_type": "stream",
     "text": [
      "1.7994735061707863\n",
      "DTensor(\n",
      "array([0.91353755, 0.88593596, 0.        , 0.        ])\n",
      ")\n"
     ]
    }
   ],
   "source": [
    "print(A.sum())\n",
    "print(A.sum(axis=0).todense())"
   ]
  },
  {
   "cell_type": "code",
   "execution_count": 15,
   "metadata": {
    "tags": []
   },
   "outputs": [
    {
     "name": "stdout",
     "output_type": "stream",
     "text": [
      "1.7994735061707863\n",
      "DTensor(\n",
      "array([0.91353755, 0.88593596, 0.        , 0.        ])\n",
      ")\n"
     ]
    }
   ],
   "source": [
    "print(st.sum(A))\n",
    "print(st.sum(A, axis=0).todense())"
   ]
  },
  {
   "cell_type": "markdown",
   "metadata": {},
   "source": [
    "## Binary operations"
   ]
  },
  {
   "cell_type": "code",
   "execution_count": 16,
   "metadata": {},
   "outputs": [],
   "source": [
    "B = np.random.rand(3, 4)\n",
    "B[B<0.8] = 0\n",
    "B = st.STensor.from_numpy(B)"
   ]
  },
  {
   "cell_type": "code",
   "execution_count": 17,
   "metadata": {
    "tags": []
   },
   "outputs": [
    {
     "name": "stdout",
     "output_type": "stream",
     "text": [
      "STensor(<COO: shape=(3, 4), dtype=float64, nnz=6, fill_value=0.0>)\n",
      "DTensor(\n",
      "array([[0.91353755, 0.        , 0.91326679, 0.        ],\n",
      "       [0.        , 0.96693703, 0.89383659, 0.81370615],\n",
      "       [0.        , 0.88593596, 0.        , 0.        ]])\n",
      ")\n",
      "STensor(<COO: shape=(3, 4), dtype=float64, nnz=6, fill_value=0.0>)\n",
      "DTensor(\n",
      "array([[0.91353755, 0.        , 0.91326679, 0.        ],\n",
      "       [0.        , 0.96693703, 0.89383659, 0.81370615],\n",
      "       [0.        , 0.88593596, 0.        , 0.        ]])\n",
      ")\n"
     ]
    }
   ],
   "source": [
    "print(A+B)\n",
    "print((A+B).todense())\n",
    "print(st.add(A, B))\n",
    "print(st.add(A, B).todense())"
   ]
  },
  {
   "cell_type": "code",
   "execution_count": 18,
   "metadata": {},
   "outputs": [
    {
     "ename": "AttributeError",
     "evalue": "module 'numba' has no attribute 'numpy_support'",
     "output_type": "error",
     "traceback": [
      "\u001b[1;31m---------------------------------------------------------------------------\u001b[0m",
      "\u001b[1;31mAttributeError\u001b[0m                            Traceback (most recent call last)",
      "\u001b[1;32mc:\\Users\\bailean\\Documents\\Bitbucket-Projects\\spartan2-tutorials\\tensor_usage.ipynb Cell 28\u001b[0m in \u001b[0;36m<cell line: 1>\u001b[1;34m()\u001b[0m\n\u001b[1;32m----> <a href='vscode-notebook-cell:/c%3A/Users/bailean/Documents/Bitbucket-Projects/spartan2-tutorials/tensor_usage.ipynb#X36sZmlsZQ%3D%3D?line=0'>1</a>\u001b[0m \u001b[39mprint\u001b[39m(A\u001b[39m.\u001b[39;49mdot(B\u001b[39m.\u001b[39;49mT))\n\u001b[0;32m      <a href='vscode-notebook-cell:/c%3A/Users/bailean/Documents/Bitbucket-Projects/spartan2-tutorials/tensor_usage.ipynb#X36sZmlsZQ%3D%3D?line=1'>2</a>\u001b[0m \u001b[39mprint\u001b[39m(A\u001b[39m.\u001b[39mdot(B\u001b[39m.\u001b[39mT)\u001b[39m.\u001b[39mtodense())\n\u001b[0;32m      <a href='vscode-notebook-cell:/c%3A/Users/bailean/Documents/Bitbucket-Projects/spartan2-tutorials/tensor_usage.ipynb#X36sZmlsZQ%3D%3D?line=2'>3</a>\u001b[0m \u001b[39mprint\u001b[39m(st\u001b[39m.\u001b[39mdot(A, B\u001b[39m.\u001b[39mT))\n",
      "File \u001b[1;32mc:\\Users\\bailean\\AppData\\Local\\Programs\\Python\\Python310\\lib\\site-packages\\spartan\\backend\\cpu_backend\\tensor.py:32\u001b[0m, in \u001b[0;36m_wrap_ret.<locals>.wrapper\u001b[1;34m(*args, **kwargs)\u001b[0m\n\u001b[0;32m     30\u001b[0m \u001b[39m@functools\u001b[39m\u001b[39m.\u001b[39mwraps(func)\n\u001b[0;32m     31\u001b[0m \u001b[39mdef\u001b[39;00m \u001b[39mwrapper\u001b[39m(\u001b[39m*\u001b[39margs, \u001b[39m*\u001b[39m\u001b[39m*\u001b[39mkwargs):\n\u001b[1;32m---> 32\u001b[0m     ret \u001b[39m=\u001b[39m func(\u001b[39m*\u001b[39margs, \u001b[39m*\u001b[39m\u001b[39m*\u001b[39mkwargs)\n\u001b[0;32m     33\u001b[0m     \u001b[39mif\u001b[39;00m \u001b[39mtype\u001b[39m(ret) \u001b[39mis\u001b[39;00m \u001b[39mtuple\u001b[39m:\n\u001b[0;32m     34\u001b[0m         \u001b[39mreturn\u001b[39;00m \u001b[39mtuple\u001b[39m(_ensure_tensor(x) \u001b[39mfor\u001b[39;00m x \u001b[39min\u001b[39;00m ret)\n",
      "File \u001b[1;32mc:\\Users\\bailean\\AppData\\Local\\Programs\\Python\\Python310\\lib\\site-packages\\spartan\\backend\\cpu_backend\\tensor.py:835\u001b[0m, in \u001b[0;36mSTensor.dot\u001b[1;34m(self, other)\u001b[0m\n\u001b[0;32m    819\u001b[0m \u001b[39m@_wrap_ret\u001b[39m\n\u001b[0;32m    820\u001b[0m \u001b[39mdef\u001b[39;00m \u001b[39mdot\u001b[39m(\u001b[39mself\u001b[39m, other):\n\u001b[0;32m    821\u001b[0m     \u001b[39m\"\"\"Wrapper of `sparse.COO.dot`. Perform tensor dot operation with\u001b[39;00m\n\u001b[0;32m    822\u001b[0m \u001b[39m    another tensor, including vector inner product, matrix multiplication\u001b[39;00m\n\u001b[0;32m    823\u001b[0m \u001b[39m    and general tensor dot.\u001b[39;00m\n\u001b[1;32m   (...)\u001b[0m\n\u001b[0;32m    833\u001b[0m \u001b[39m        Tensor dot result as a DTensor or a STensor or a scalar value.\u001b[39;00m\n\u001b[0;32m    834\u001b[0m \u001b[39m    \"\"\"\u001b[39;00m\n\u001b[1;32m--> 835\u001b[0m     \u001b[39mreturn\u001b[39;00m \u001b[39mself\u001b[39;49m\u001b[39m.\u001b[39;49m_data\u001b[39m.\u001b[39;49mdot(other\u001b[39m.\u001b[39;49m_data)\n",
      "File \u001b[1;32mc:\\Users\\bailean\\AppData\\Local\\Programs\\Python\\Python310\\lib\\site-packages\\sparse\\_coo\\core.py:1635\u001b[0m, in \u001b[0;36mCOO.dot\u001b[1;34m(self, other)\u001b[0m\n\u001b[0;32m   1601\u001b[0m \u001b[39mdef\u001b[39;00m \u001b[39mdot\u001b[39m(\u001b[39mself\u001b[39m, other):\n\u001b[0;32m   1602\u001b[0m     \u001b[39m\"\"\"\u001b[39;00m\n\u001b[0;32m   1603\u001b[0m \u001b[39m    Performs the equivalent of :code:`x.dot(y)` for :obj:`COO`.\u001b[39;00m\n\u001b[0;32m   1604\u001b[0m \n\u001b[1;32m   (...)\u001b[0m\n\u001b[0;32m   1633\u001b[0m \u001b[39m           [ 6, 11]], dtype=int64)\u001b[39;00m\n\u001b[0;32m   1634\u001b[0m \u001b[39m    \"\"\"\u001b[39;00m\n\u001b[1;32m-> 1635\u001b[0m     \u001b[39mreturn\u001b[39;00m dot(\u001b[39mself\u001b[39;49m, other)\n",
      "File \u001b[1;32mc:\\Users\\bailean\\AppData\\Local\\Programs\\Python\\Python310\\lib\\site-packages\\sparse\\_coo\\common.py:287\u001b[0m, in \u001b[0;36mdot\u001b[1;34m(a, b)\u001b[0m\n\u001b[0;32m    285\u001b[0m \u001b[39mif\u001b[39;00m b\u001b[39m.\u001b[39mndim \u001b[39m==\u001b[39m \u001b[39m1\u001b[39m:\n\u001b[0;32m    286\u001b[0m     b_axis \u001b[39m=\u001b[39m \u001b[39m-\u001b[39m\u001b[39m1\u001b[39m\n\u001b[1;32m--> 287\u001b[0m \u001b[39mreturn\u001b[39;00m tensordot(a, b, axes\u001b[39m=\u001b[39;49m(a_axis, b_axis))\n",
      "File \u001b[1;32mc:\\Users\\bailean\\AppData\\Local\\Programs\\Python\\Python310\\lib\\site-packages\\sparse\\_coo\\common.py:168\u001b[0m, in \u001b[0;36mtensordot\u001b[1;34m(a, b, axes)\u001b[0m\n\u001b[0;32m    166\u001b[0m at \u001b[39m=\u001b[39m a\u001b[39m.\u001b[39mtranspose(newaxes_a)\u001b[39m.\u001b[39mreshape(newshape_a)\n\u001b[0;32m    167\u001b[0m bt \u001b[39m=\u001b[39m b\u001b[39m.\u001b[39mtranspose(newaxes_b)\u001b[39m.\u001b[39mreshape(newshape_b)\n\u001b[1;32m--> 168\u001b[0m res \u001b[39m=\u001b[39m _dot(at, bt)\n\u001b[0;32m    169\u001b[0m \u001b[39mreturn\u001b[39;00m res\u001b[39m.\u001b[39mreshape(olda \u001b[39m+\u001b[39m oldb)\n",
      "File \u001b[1;32mc:\\Users\\bailean\\AppData\\Local\\Programs\\Python\\Python310\\lib\\site-packages\\sparse\\_coo\\common.py:296\u001b[0m, in \u001b[0;36m_dot\u001b[1;34m(a, b)\u001b[0m\n\u001b[0;32m    294\u001b[0m \u001b[39mif\u001b[39;00m \u001b[39misinstance\u001b[39m(a, COO) \u001b[39mand\u001b[39;00m \u001b[39misinstance\u001b[39m(b, COO):\n\u001b[0;32m    295\u001b[0m     b \u001b[39m=\u001b[39m b\u001b[39m.\u001b[39mT\n\u001b[1;32m--> 296\u001b[0m     coords, data \u001b[39m=\u001b[39m _dot_coo_coo_type(a\u001b[39m.\u001b[39;49mdtype, b\u001b[39m.\u001b[39;49mdtype)(\n\u001b[0;32m    297\u001b[0m         a\u001b[39m.\u001b[39mcoords, a\u001b[39m.\u001b[39mdata, b\u001b[39m.\u001b[39mcoords, b\u001b[39m.\u001b[39mdata\n\u001b[0;32m    298\u001b[0m     )\n\u001b[0;32m    300\u001b[0m     \u001b[39mreturn\u001b[39;00m COO(coords, data, shape\u001b[39m=\u001b[39mout_shape, has_duplicates\u001b[39m=\u001b[39m\u001b[39mFalse\u001b[39;00m, \u001b[39msorted\u001b[39m\u001b[39m=\u001b[39m\u001b[39mTrue\u001b[39;00m)\n\u001b[0;32m    302\u001b[0m \u001b[39mif\u001b[39;00m \u001b[39misinstance\u001b[39m(a, COO) \u001b[39mand\u001b[39;00m \u001b[39misinstance\u001b[39m(b, np\u001b[39m.\u001b[39mndarray):\n",
      "File \u001b[1;32mc:\\Users\\bailean\\AppData\\Local\\Programs\\Python\\Python310\\lib\\site-packages\\sparse\\_coo\\common.py:1134\u001b[0m, in \u001b[0;36m_memoize_dtype.<locals>.wrapped\u001b[1;34m(*args)\u001b[0m\n\u001b[0;32m   1131\u001b[0m \u001b[39mif\u001b[39;00m key \u001b[39min\u001b[39;00m cache:\n\u001b[0;32m   1132\u001b[0m     \u001b[39mreturn\u001b[39;00m cache[key]\n\u001b[1;32m-> 1134\u001b[0m result \u001b[39m=\u001b[39m f(\u001b[39m*\u001b[39;49margs)\n\u001b[0;32m   1135\u001b[0m cache[key] \u001b[39m=\u001b[39m result\n\u001b[0;32m   1136\u001b[0m \u001b[39mreturn\u001b[39;00m result\n",
      "File \u001b[1;32mc:\\Users\\bailean\\AppData\\Local\\Programs\\Python\\Python310\\lib\\site-packages\\sparse\\_coo\\common.py:1148\u001b[0m, in \u001b[0;36m_dot_coo_coo_type\u001b[1;34m(dt1, dt2)\u001b[0m\n\u001b[0;32m   1141\u001b[0m \u001b[39m@_memoize_dtype\u001b[39m\n\u001b[0;32m   1142\u001b[0m \u001b[39mdef\u001b[39;00m \u001b[39m_dot_coo_coo_type\u001b[39m(dt1, dt2):\n\u001b[0;32m   1143\u001b[0m     dtr \u001b[39m=\u001b[39m np\u001b[39m.\u001b[39mresult_type(dt1, dt2)\n\u001b[0;32m   1145\u001b[0m     \u001b[39m@numba\u001b[39m\u001b[39m.\u001b[39mjit(\n\u001b[0;32m   1146\u001b[0m         nopython\u001b[39m=\u001b[39m\u001b[39mTrue\u001b[39;00m,\n\u001b[0;32m   1147\u001b[0m         nogil\u001b[39m=\u001b[39m\u001b[39mTrue\u001b[39;00m,\n\u001b[1;32m-> 1148\u001b[0m         \u001b[39mlocals\u001b[39m\u001b[39m=\u001b[39m{\u001b[39m\"\u001b[39m\u001b[39mdata_curr\u001b[39m\u001b[39m\"\u001b[39m: numba\u001b[39m.\u001b[39;49mnumpy_support\u001b[39m.\u001b[39mfrom_dtype(dtr)},\n\u001b[0;32m   1149\u001b[0m     )\n\u001b[0;32m   1150\u001b[0m     \u001b[39mdef\u001b[39;00m \u001b[39m_dot_coo_coo\u001b[39m(coords1, data1, coords2, data2):  \u001b[39m# pragma: no cover\u001b[39;00m\n\u001b[0;32m   1151\u001b[0m         \u001b[39m\"\"\"\u001b[39;00m\n\u001b[0;32m   1152\u001b[0m \u001b[39m        Utility function taking in two ``COO`` objects and calculating a \"sense\"\u001b[39;00m\n\u001b[0;32m   1153\u001b[0m \u001b[39m        of their dot product. Acually computes ``s1 @ s2.T``.\u001b[39;00m\n\u001b[1;32m   (...)\u001b[0m\n\u001b[0;32m   1161\u001b[0m \u001b[39m            The data and coordinates of ``s2``.\u001b[39;00m\n\u001b[0;32m   1162\u001b[0m \u001b[39m        \"\"\"\u001b[39;00m\n\u001b[0;32m   1163\u001b[0m         coords_out \u001b[39m=\u001b[39m []\n",
      "\u001b[1;31mAttributeError\u001b[0m: module 'numba' has no attribute 'numpy_support'"
     ]
    }
   ],
   "source": [
    "print(A.dot(B.T))\n",
    "print(A.dot(B.T).todense())\n",
    "print(st.dot(A, B.T))\n",
    "print(st.dot(A, B.T).todense())"
   ]
  },
  {
   "cell_type": "code",
   "execution_count": null,
   "metadata": {},
   "outputs": [],
   "source": []
  },
  {
   "cell_type": "markdown",
   "metadata": {},
   "source": [
    "# GPU Dense"
   ]
  },
  {
   "cell_type": "code",
   "execution_count": 19,
   "metadata": {},
   "outputs": [],
   "source": [
    "import sys\n",
    "sys.path.append('../../')"
   ]
  },
  {
   "cell_type": "code",
   "execution_count": 20,
   "metadata": {
    "tags": []
   },
   "outputs": [
    {
     "name": "stdout",
     "output_type": "stream",
     "text": [
      "Using backend cpu\n"
     ]
    },
    {
     "name": "stderr",
     "output_type": "stream",
     "text": [
      "c:\\Users\\bailean\\AppData\\Local\\Programs\\Python\\Python310\\lib\\site-packages\\spartan\\backend\\__init__.py:62: UserWarning: GPU not available! Use CPU backend instead.\n",
      "  warnings.warn(msg)\n"
     ]
    }
   ],
   "source": [
    "import spartan as st\n",
    "\n",
    "st.load_backend('gpu')"
   ]
  },
  {
   "cell_type": "code",
   "execution_count": null,
   "metadata": {},
   "outputs": [],
   "source": [
    "import torch"
   ]
  },
  {
   "cell_type": "code",
   "execution_count": null,
   "metadata": {},
   "outputs": [],
   "source": [
    "A = st.DTensor(torch.rand(3, 4))"
   ]
  },
  {
   "cell_type": "markdown",
   "metadata": {},
   "source": [
    "## Attributes"
   ]
  },
  {
   "cell_type": "code",
   "execution_count": null,
   "metadata": {
    "tags": []
   },
   "outputs": [],
   "source": [
    "print(A.shape)\n",
    "print(A.dtype)\n",
    "print(A.T)"
   ]
  },
  {
   "cell_type": "markdown",
   "metadata": {},
   "source": [
    "## Slice"
   ]
  },
  {
   "cell_type": "code",
   "execution_count": null,
   "metadata": {
    "tags": []
   },
   "outputs": [],
   "source": [
    "print(len(A))\n",
    "print(A[0])\n",
    "print(A[:, 1])\n",
    "print(A[:, 0:2])"
   ]
  },
  {
   "cell_type": "markdown",
   "metadata": {},
   "source": [
    "## Reduction Operations"
   ]
  },
  {
   "cell_type": "code",
   "execution_count": null,
   "metadata": {
    "tags": []
   },
   "outputs": [],
   "source": [
    "print(A.sum())\n",
    "print(A.sum(axis=0))"
   ]
  },
  {
   "cell_type": "code",
   "execution_count": null,
   "metadata": {
    "tags": []
   },
   "outputs": [],
   "source": [
    "print(st.sum(A))\n",
    "print(st.sum(A, axis=0))"
   ]
  },
  {
   "cell_type": "markdown",
   "metadata": {},
   "source": [
    "## Binary Operations"
   ]
  },
  {
   "cell_type": "code",
   "execution_count": null,
   "metadata": {},
   "outputs": [],
   "source": [
    "B = st.DTensor(torch.rand(3, 4))"
   ]
  },
  {
   "cell_type": "code",
   "execution_count": null,
   "metadata": {
    "tags": []
   },
   "outputs": [],
   "source": [
    "print(A+B)\n",
    "print(st.add(A, B))"
   ]
  },
  {
   "cell_type": "code",
   "execution_count": null,
   "metadata": {},
   "outputs": [],
   "source": [
    "print(A.dot(B.T))\n",
    "print(st.dot(A, B.T))"
   ]
  },
  {
   "cell_type": "markdown",
   "metadata": {},
   "source": [
    "## GPU Sparse\n",
    "**Notice**: Some oeprations are not supported for GPU STensor yet!"
   ]
  },
  {
   "cell_type": "code",
   "execution_count": null,
   "metadata": {},
   "outputs": [],
   "source": [
    "import scipy.sparse as ssp"
   ]
  },
  {
   "cell_type": "code",
   "execution_count": null,
   "metadata": {},
   "outputs": [],
   "source": [
    "A = np.random.rand(3, 4)\n",
    "A[A<0.8] = 0"
   ]
  },
  {
   "cell_type": "code",
   "execution_count": null,
   "metadata": {
    "tags": []
   },
   "outputs": [],
   "source": [
    "A = np.random.rand(3, 4)\n",
    "A[A<0.8] = 0\n",
    "A = st.STensor.from_numpy(A)\n",
    "print(A)\n",
    "print(A.todense())"
   ]
  },
  {
   "cell_type": "markdown",
   "metadata": {},
   "source": [
    "## Attributes"
   ]
  },
  {
   "cell_type": "code",
   "execution_count": null,
   "metadata": {
    "tags": []
   },
   "outputs": [],
   "source": [
    "print(A.shape)\n",
    "print(A.dtype)\n",
    "# print(A.T)"
   ]
  },
  {
   "cell_type": "markdown",
   "metadata": {},
   "source": [
    "## Index and Slice\n",
    "**Notice**: Pytorch GPU sparse tensor doesn't support complex slice yet!"
   ]
  },
  {
   "cell_type": "code",
   "execution_count": null,
   "metadata": {
    "tags": []
   },
   "outputs": [],
   "source": [
    "print(len(A))\n",
    "print(A[0])"
   ]
  },
  {
   "cell_type": "markdown",
   "metadata": {},
   "source": [
    "## Reduction operations"
   ]
  },
  {
   "cell_type": "code",
   "execution_count": null,
   "metadata": {
    "tags": []
   },
   "outputs": [],
   "source": [
    "print(A.sum())\n",
    "print(A.sum(axis=0).todense())"
   ]
  },
  {
   "cell_type": "code",
   "execution_count": null,
   "metadata": {},
   "outputs": [],
   "source": [
    "# print(st.sum(A))\n",
    "# print(st.sum(A, axis=0).todense())"
   ]
  },
  {
   "cell_type": "markdown",
   "metadata": {},
   "source": [
    "## Binary operations"
   ]
  },
  {
   "cell_type": "code",
   "execution_count": null,
   "metadata": {},
   "outputs": [],
   "source": [
    "B = np.random.rand(3, 4)\n",
    "B[B<0.8] = 0\n",
    "B = st.STensor.from_numpy(B)"
   ]
  },
  {
   "cell_type": "code",
   "execution_count": null,
   "metadata": {
    "tags": []
   },
   "outputs": [],
   "source": [
    "print(A+B)\n",
    "print((A+B).todense())\n",
    "# print(st.add(A, B))\n",
    "# print(st.add(A, B).todense())"
   ]
  }
 ],
 "metadata": {
  "kernelspec": {
   "display_name": "Python 3",
   "language": "python",
   "name": "python3"
  },
  "language_info": {
   "codemirror_mode": {
    "name": "ipython",
    "version": 3
   },
   "file_extension": ".py",
   "mimetype": "text/x-python",
   "name": "python",
   "nbconvert_exporter": "python",
   "pygments_lexer": "ipython3",
   "version": "3.10.9"
  }
 },
 "nbformat": 4,
 "nbformat_minor": 4
}
